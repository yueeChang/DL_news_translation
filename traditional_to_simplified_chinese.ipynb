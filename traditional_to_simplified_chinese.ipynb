{
 "cells": [
  {
   "cell_type": "code",
   "execution_count": null,
   "metadata": {},
   "outputs": [],
   "source": [
    "import json\n",
    "from opencc import OpenCC\n",
    "\n",
    "\n",
    "converter = OpenCC('t2s')\n",
    "\n",
    "\n",
    "input_file = \"data_tatoeba.json\"\n",
    "output_file = \"data_simZh.json\"\n",
    "\n",
    "\n",
    "with open(input_file, \"r\", encoding=\"utf-8\") as f:\n",
    "    data = json.load(f)\n",
    "\n",
    "for item in data:\n",
    "    item[\"target\"] = converter.convert(item[\"target\"])  \n",
    "    # traditional Chinese to simplified Chinese\n",
    "\n",
    "with open(output_file, \"w\", encoding=\"utf-8\") as f:\n",
    "    json.dump(data, f, ensure_ascii=False, indent=4)\n",
    "\n",
    "print(f\"T to S finished, output file saved to {output_file}\")"
   ]
  }
 ],
 "metadata": {
  "language_info": {
   "name": "python"
  }
 },
 "nbformat": 4,
 "nbformat_minor": 2
}
