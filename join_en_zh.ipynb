{
 "cells": [
  {
   "cell_type": "code",
   "execution_count": 3,
   "metadata": {},
   "outputs": [
    {
     "name": "stdout",
     "output_type": "stream",
     "text": [
      "整理完成，共 19965 句对，数据已保存到 WMT_enzh.json\n"
     ]
    }
   ],
   "source": [
    "import xml.etree.cElementTree as ET\n",
    "import json\n",
    "\n",
    "xml_path = \"WMT_newsdata\\WMT-News.en-zh.xml\"\n",
    "tree = ET.parse(xml_path)\n",
    "root = tree.getroot()\n",
    "\n",
    "en_path = \"WMT_newsdata\\WMT-News.en-zh.en\"\n",
    "zh_path = \"WMT_newsdata\\WMT-News.en-zh.zh\"\n",
    "\n",
    "with open(en_path, \"r\", encoding = \"utf-8\") as f:\n",
    "    en_sentences = [line.strip() for line in f.readlines()]\n",
    "with open(zh_path,\"r\", encoding = \"utf-8\") as f:\n",
    "    zh_sentences = [line.strip() for line in f.readlines()]\n",
    "\n",
    "data = []\n",
    "for idx, link in enumerate(root.findall(\".//link\"), start = 1):\n",
    "    xtargets = link.attrib[\"xtargets\"]\n",
    "    en_idx, zh_idx = map(int, xtargets.split(\";\"))\n",
    "    en_text = en_sentences[en_idx-1] if 0 < en_idx <= len(en_sentences) else \"\"\n",
    "    zh_text = zh_sentences[zh_idx-1] if 0 < zh_idx <= len(zh_sentences) else \"\"\n",
    "    data.append({\n",
    "        \"id\": idx,\n",
    "        \"en\": en_text,\n",
    "        \"zh\": zh_text\n",
    "    })\n",
    "\n",
    "json_path = \"WMT_enzh.json\"\n",
    "with open(json_path, \"w\", encoding = \"utf-8\") as f:\n",
    "    json.dump(data, f, ensure_ascii=False, indent=4)\n",
    "\n",
    "print(f\"collation completed, with a total of {len(data)} pairs of sentences, data saved to {json_path}\")"
   ]
  }
 ],
 "metadata": {
  "kernelspec": {
   "display_name": "Python 3",
   "language": "python",
   "name": "python3"
  },
  "language_info": {
   "codemirror_mode": {
    "name": "ipython",
    "version": 3
   },
   "file_extension": ".py",
   "mimetype": "text/x-python",
   "name": "python",
   "nbconvert_exporter": "python",
   "pygments_lexer": "ipython3",
   "version": "3.10.0"
  }
 },
 "nbformat": 4,
 "nbformat_minor": 2
}
